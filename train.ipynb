{
 "cells": [
  {
   "cell_type": "markdown",
   "id": "f8ac2a27",
   "metadata": {},
   "source": [
    "# Mission Control"
   ]
  },
  {
   "cell_type": "markdown",
   "id": "35f55ffd",
   "metadata": {},
   "source": [
    "This notebook serves as the top level controller for training, testing, and demonstrating this project. Any callable python script should have a cell in this notebook."
   ]
  },
  {
   "cell_type": "markdown",
   "id": "b5d424b3",
   "metadata": {},
   "source": [
    "### Imports\n",
    "Run the following cell before running anything else"
   ]
  },
  {
   "cell_type": "code",
   "execution_count": null,
   "id": "eb9ca593",
   "metadata": {},
   "outputs": [],
   "source": [
    "import math\n",
    "import random\n",
    "import matplotlib\n",
    "import matplotlib.pyplot as plt\n",
    "from collections import namedtuple, deque\n",
    "#from itertools import count\n",
    "import coppeliasim_env\n",
    "\n",
    "import torch\n",
    "import torch.nn as nn\n",
    "import torch.optim as optim\n",
    "import torch.nn.functional as F\n",
    "\n",
    "\n",
    "# if gpu is to be used\n",
    "device = torch.device(\"cuda\" if torch.cuda.is_available() else \"cpu\")\n",
    "\n",
    "\n",
    "\n",
    "#create environment\n"
   ]
  },
  {
   "cell_type": "markdown",
   "id": "22b7d684",
   "metadata": {},
   "source": [
    "### Define Replay Memory"
   ]
  },
  {
   "cell_type": "code",
   "execution_count": null,
   "id": "533822d3",
   "metadata": {},
   "outputs": [],
   "source": [
    "class ReplayMemory(object):\n",
    "\n",
    "    def __init__(self, capacity):\n",
    "        self.memory = deque([], maxlen=capacity)\n",
    "\n",
    "    def push(self, *args):\n",
    "        \"\"\"Save a transition\"\"\"\n",
    "        self.memory.append(Transition(*args))\n",
    "\n",
    "    def sample(self, batch_size):\n",
    "        return random.sample(self.memory, batch_size)\n",
    "\n",
    "    def __len__(self):\n",
    "        return len(self.memory)"
   ]
  },
  {
   "cell_type": "code",
   "execution_count": null,
   "id": "2b79cd68",
   "metadata": {},
   "outputs": [],
   "source": []
  },
  {
   "cell_type": "markdown",
   "id": "26345985",
   "metadata": {},
   "source": [
    "### Define Architecture"
   ]
  },
  {
   "cell_type": "code",
   "execution_count": null,
   "id": "855b1a99",
   "metadata": {},
   "outputs": [],
   "source": [
    "class DQNAgent(nn.Module):\n",
    "\n",
    "    def __init__(self, n_observations, n_actions):\n",
    "        super(DQNAgent, self).__init__()\n",
    "        self.layer1 = nn.Linear(n_observations, 128)\n",
    "        self.layer2 = nn.Linear(128, 128)\n",
    "        self.layer3 = nn.Linear(128, n_actions)\n",
    "\n",
    "    # Called with either one element to determine next action, or a batch\n",
    "    # during optimization. Returns tensor([[left0exp,right0exp]...]).\n",
    "    def forward(self, x):\n",
    "        x = F.relu(self.layer1(x))\n",
    "        x = F.relu(self.layer2(x))\n",
    "        return self.layer3(x)"
   ]
  },
  {
   "cell_type": "markdown",
   "id": "405bed02",
   "metadata": {},
   "source": [
    "### Define Hyperparameters"
   ]
  },
  {
   "cell_type": "code",
   "execution_count": null,
   "id": "a5c8f4f9",
   "metadata": {},
   "outputs": [],
   "source": [
    "BATCH_SIZE = 128\n",
    "GAMMA = 0.99\n",
    "EPS_START = 0.9\n",
    "EPS_END = 0.05\n",
    "EPS_DECAY = 1000\n",
    "TAU = 0.005\n",
    "LR = 1e-4"
   ]
  },
  {
   "cell_type": "markdown",
   "id": "2a004a56",
   "metadata": {},
   "source": [
    "### Create Randomized (fresh) Model"
   ]
  },
  {
   "cell_type": "code",
   "execution_count": null,
   "id": "e0d2b8e2",
   "metadata": {},
   "outputs": [],
   "source": []
  },
  {
   "cell_type": "markdown",
   "id": "e63c5d23",
   "metadata": {},
   "source": [
    "### Load Existing Model"
   ]
  },
  {
   "cell_type": "code",
   "execution_count": null,
   "id": "ae6fd982",
   "metadata": {},
   "outputs": [],
   "source": [
    "path = '/model_backups/'\n",
    "model_name = \n",
    "#NOTE: model_backups should be cleared out periodically (automate this???)"
   ]
  },
  {
   "cell_type": "markdown",
   "id": "f17a531d",
   "metadata": {},
   "source": [
    "### Train Loaded Model"
   ]
  },
  {
   "cell_type": "code",
   "execution_count": null,
   "id": "3fd28d63",
   "metadata": {},
   "outputs": [],
   "source": []
  },
  {
   "cell_type": "markdown",
   "id": "13b6ebc8",
   "metadata": {},
   "source": [
    "### Evaluate Loaded Model"
   ]
  },
  {
   "cell_type": "code",
   "execution_count": null,
   "id": "f385f9f3",
   "metadata": {},
   "outputs": [],
   "source": []
  },
  {
   "cell_type": "markdown",
   "id": "622e8b3e",
   "metadata": {},
   "source": [
    "### References\n",
    "https://pytorch.org/tutorials/intermediate/reinforcement_q_learning.html\n",
    "\n",
    "\n",
    "https://github.com/xtma/simple-pytorch-rl/blob/master/dqn.py"
   ]
  },
  {
   "cell_type": "code",
   "execution_count": null,
   "id": "04f6c5cc",
   "metadata": {},
   "outputs": [],
   "source": []
  }
 ],
 "metadata": {
  "kernelspec": {
   "display_name": "Python 3 (ipykernel)",
   "language": "python",
   "name": "python3"
  },
  "language_info": {
   "codemirror_mode": {
    "name": "ipython",
    "version": 3
   },
   "file_extension": ".py",
   "mimetype": "text/x-python",
   "name": "python",
   "nbconvert_exporter": "python",
   "pygments_lexer": "ipython3",
   "version": "3.10.6"
  }
 },
 "nbformat": 4,
 "nbformat_minor": 5
}
