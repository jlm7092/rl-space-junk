{
 "cells": [
  {
   "cell_type": "markdown",
   "id": "f8ac2a27",
   "metadata": {},
   "source": [
    "# Mission Control"
   ]
  },
  {
   "cell_type": "markdown",
   "id": "35f55ffd",
   "metadata": {},
   "source": [
    "This notebook serves as the top level controller for training, testing, and demonstrating this project. Any callable python script should have a cell in this notebook."
   ]
  },
  {
   "cell_type": "markdown",
   "id": "4943bc0f",
   "metadata": {},
   "source": [
    "### Imports"
   ]
  },
  {
   "cell_type": "code",
   "execution_count": 1,
   "id": "9d496361",
   "metadata": {},
   "outputs": [],
   "source": [
    "import gymnasium as gym\n",
    "import sys #fix for gym issues\n",
    "import gymnasium #fix for gym issues\n",
    "sys.modules[\"gym\"] = gymnasium #fix for gym issues\n",
    "from coppeliasim_env import SpaceJunkEnv\n",
    "from stable_baselines3 import PPO"
   ]
  },
  {
   "cell_type": "markdown",
   "id": "405bed02",
   "metadata": {},
   "source": [
    "### Define PPO Model"
   ]
  },
  {
   "cell_type": "code",
   "execution_count": 49,
   "id": "a5c8f4f9",
   "metadata": {},
   "outputs": [],
   "source": [
    "#define environment instance\n",
    "env = SpaceJunkEnv()\n"
   ]
  },
  {
   "cell_type": "code",
   "execution_count": null,
   "id": "4b8b88b3",
   "metadata": {},
   "outputs": [],
   "source": [
    "#define model w/ custom fully connected network\n",
    "model = PPO(\"MultiInputPolicy\", env, verbose=1, n_steps=400, policy_kwargs=dict(net_arch=[128, 128, 128]))"
   ]
  },
  {
   "cell_type": "markdown",
   "id": "45bae275",
   "metadata": {},
   "source": [
    "### Train Model"
   ]
  },
  {
   "cell_type": "code",
   "execution_count": null,
   "id": "1670a39a",
   "metadata": {},
   "outputs": [],
   "source": [
    "for i in range(50):\n",
    "    model.learn(total_timesteps=20000)\n",
    "    model.save(\"model_backups/model_\" + str(i))\n"
   ]
  },
  {
   "cell_type": "markdown",
   "id": "da05952e",
   "metadata": {},
   "source": [
    "### Environment Testing"
   ]
  },
  {
   "cell_type": "code",
   "execution_count": 50,
   "id": "21dc8d15",
   "metadata": {},
   "outputs": [],
   "source": [
    "sim = env.getsim()"
   ]
  },
  {
   "cell_type": "code",
   "execution_count": null,
   "id": "f7cc1f53",
   "metadata": {},
   "outputs": [],
   "source": [
    "joint = sim.getObject(\"/Sawyer/link/joint\")\n",
    "sim.setJointTargetPosition(joint,0*3.14159265/180,[0.1,0.1,0.1])\n",
    "#sim.setJointTargetPosition(joint,0.1,[0.1,0.1,0.1])"
   ]
  },
  {
   "cell_type": "code",
   "execution_count": null,
   "id": "e1284689",
   "metadata": {},
   "outputs": [],
   "source": [
    "#OPEN COPPELIASIM BEFORE STARTING THIS SCRIPT\n",
    "from time import sleep\n",
    "from coppeliasim_env import SpaceJunkEnv\n",
    "\n",
    "env = SpaceJunkEnv()\n",
    "\n",
    "#sensor1Handle=sim.getObject('/VisionSensor')\n",
    "#sensor2Handle=sim.getObject('/PassiveVisionSensor')\n",
    "\n",
    "#sleep(5)\n",
    "#sim.startSimulation()\n",
    "#sleep(5)\n",
    "#sim.stopSimulation()\n"
   ]
  },
  {
   "cell_type": "code",
   "execution_count": 48,
   "id": "b875ae5e",
   "metadata": {},
   "outputs": [
    {
     "data": {
      "text/plain": [
       "1"
      ]
     },
     "execution_count": 48,
     "metadata": {},
     "output_type": "execute_result"
    }
   ],
   "source": [
    "motorHandle = sim.getObject(\"/Sawyer/BaxterGripper/closeJoint\")\n",
    "#sim.setJointInterval(motorHandle,False,[-0.01,0.5])\n",
    "sim.setJointTargetVelocity(motorHandle,-0.005)\n",
    "#sim.setJointTargetPosition(motorHandle,-1,[0.1,0.1,0.1])"
   ]
  },
  {
   "cell_type": "code",
   "execution_count": null,
   "id": "f59cc6b0",
   "metadata": {},
   "outputs": [],
   "source": [
    "env.reset()\n",
    "#env.addcubesat([0.5,0,0.5])"
   ]
  },
  {
   "cell_type": "markdown",
   "id": "e63c5d23",
   "metadata": {},
   "source": [
    "### Load Existing Model"
   ]
  },
  {
   "cell_type": "code",
   "execution_count": null,
   "id": "ae6fd982",
   "metadata": {},
   "outputs": [],
   "source": [
    "path = '/model_backups/'\n",
    "model_name = \n",
    "#NOTE: model_backups should be cleared out periodically (automate this???)\n",
    "model = PPO.load(\"ppo_cartpole\")"
   ]
  },
  {
   "cell_type": "markdown",
   "id": "13b6ebc8",
   "metadata": {},
   "source": [
    "### Evaluate Loaded Model"
   ]
  },
  {
   "cell_type": "code",
   "execution_count": null,
   "id": "f385f9f3",
   "metadata": {},
   "outputs": [],
   "source": [
    "obs = env.reset()\n",
    "\n",
    "while True:\n",
    "    action, _states = model.predict(obs)\n",
    "    obs, rewards, dones, info = env.step(action)\n",
    "    env.render()"
   ]
  },
  {
   "cell_type": "markdown",
   "id": "622e8b3e",
   "metadata": {},
   "source": [
    "### References\n",
    "https://stable-baselines3.readthedocs.io/en/master/modules/ppo.html\n",
    "\n",
    "https://stable-baselines3.readthedocs.io/en/master/guide/custom_policy.html#examples\n",
    "\n",
    "https://stable-baselines3.readthedocs.io/en/master/guide/custom_policy.html#default-network-architecture\n",
    "\n",
    "https://stable-baselines3.readthedocs.io/en/master/guide/custom_env.html\n",
    "\n",
    "https://gymnasium.farama.org/api/spaces/composite/\n",
    "\n",
    "https://gymnasium.farama.org/api/spaces/fundamental/\n",
    "\n",
    "gym fix\n",
    "https://github.com/DLR-RM/stable-baselines3/pull/780"
   ]
  },
  {
   "cell_type": "code",
   "execution_count": null,
   "id": "04f6c5cc",
   "metadata": {},
   "outputs": [],
   "source": []
  }
 ],
 "metadata": {
  "kernelspec": {
   "display_name": "Python 3 (ipykernel)",
   "language": "python",
   "name": "python3"
  },
  "language_info": {
   "codemirror_mode": {
    "name": "ipython",
    "version": 3
   },
   "file_extension": ".py",
   "mimetype": "text/x-python",
   "name": "python",
   "nbconvert_exporter": "python",
   "pygments_lexer": "ipython3",
   "version": "3.9.12"
  }
 },
 "nbformat": 4,
 "nbformat_minor": 5
}
