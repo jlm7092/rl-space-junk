{
 "cells": [
  {
   "cell_type": "markdown",
   "id": "f8ac2a27",
   "metadata": {},
   "source": [
    "# Mission Control"
   ]
  },
  {
   "cell_type": "markdown",
   "id": "35f55ffd",
   "metadata": {},
   "source": [
    "This notebook serves as the top level controller for training, testing, and demonstrating this project. Any callable python script should have a cell in this notebook."
   ]
  },
  {
   "cell_type": "markdown",
   "id": "1e79967c",
   "metadata": {},
   "source": [
    "### Imports"
   ]
  },
  {
   "cell_type": "code",
   "execution_count": 1,
   "id": "9d496361",
   "metadata": {},
   "outputs": [],
   "source": [
    "import gymnasium as gym\n",
    "import sys #fix for gym issues\n",
    "import gymnasium #fix for gym issues\n",
    "sys.modules[\"gym\"] = gymnasium #fix for gym issues\n",
    "from coppeliasim_env import SpaceJunkEnv\n",
    "from stable_baselines3 import PPO"
   ]
  },
  {
   "cell_type": "markdown",
   "id": "405bed02",
   "metadata": {},
   "source": [
    "### Define PPO Model"
   ]
  },
  {
   "cell_type": "code",
   "execution_count": 2,
   "id": "a5c8f4f9",
   "metadata": {},
   "outputs": [
    {
     "name": "stdout",
     "output_type": "stream",
     "text": [
      "Using cpu device\n",
      "Wrapping the env with a `Monitor` wrapper\n",
      "Wrapping the env in a DummyVecEnv.\n",
      "Wrapping the env in a VecTransposeImage.\n"
     ]
    }
   ],
   "source": [
    "#define environment instance\n",
    "env = SpaceJunkEnv()\n",
    "\n",
    "#define model w/ custom fully connected network\n",
    "model = PPO(\"MultiInputPolicy\", env, verbose=1, policy_kwargs=dict(net_arch=[128, 128, 128]))\n"
   ]
  },
  {
   "cell_type": "markdown",
   "id": "77153f70",
   "metadata": {},
   "source": [
    "### Train Model"
   ]
  },
  {
   "cell_type": "code",
   "execution_count": null,
   "id": "3a228d89",
   "metadata": {},
   "outputs": [],
   "source": [
    "for i in range(50):\n",
    "    model.learn(total_timesteps=1000)\n",
    "    model.save(\"model_backups/model_\" + str(i))\n"
   ]
  },
  {
   "cell_type": "markdown",
   "id": "da05952e",
   "metadata": {},
   "source": [
    "### Environment Testing"
   ]
  },
  {
   "cell_type": "code",
   "execution_count": null,
   "id": "21dc8d15",
   "metadata": {},
   "outputs": [],
   "source": [
    "sim = env.getsim()"
   ]
  },
  {
   "cell_type": "code",
   "execution_count": null,
   "id": "b792a416",
   "metadata": {},
   "outputs": [],
   "source": [
    "joint = sim.getObject(\"/Sawyer/link/joint\")\n",
    "sim.setJointTargetPosition(joint,0*3.14159265/180,[0.1,0.1,0.1])\n",
    "#sim.setJointTargetPosition(joint,0.1,[0.1,0.1,0.1])"
   ]
  },
  {
   "cell_type": "code",
   "execution_count": null,
   "id": "e1284689",
   "metadata": {},
   "outputs": [],
   "source": [
    "#OPEN COPPELIASIM BEFORE STARTING THIS SCRIPT\n",
    "from time import sleep\n",
    "from coppeliasim_env import SpaceJunkEnv\n",
    "\n",
    "env = SpaceJunkEnv()\n",
    "\n",
    "#sensor1Handle=sim.getObject('/VisionSensor')\n",
    "#sensor2Handle=sim.getObject('/PassiveVisionSensor')\n",
    "\n",
    "#sleep(5)\n",
    "#sim.startSimulation()\n",
    "#sleep(5)\n",
    "#sim.stopSimulation()\n"
   ]
  },
  {
   "cell_type": "code",
   "execution_count": null,
   "id": "f59cc6b0",
   "metadata": {},
   "outputs": [],
   "source": [
    "env.reset()\n",
    "#env.addcubesat([0.5,0,0.5])"
   ]
  },
  {
   "cell_type": "markdown",
   "id": "e63c5d23",
   "metadata": {},
   "source": [
    "### Load Existing Model"
   ]
  },
  {
   "cell_type": "code",
   "execution_count": null,
   "id": "ae6fd982",
   "metadata": {},
   "outputs": [],
   "source": [
    "path = '/model_backups/'\n",
    "model_name = \n",
    "#NOTE: model_backups should be cleared out periodically (automate this???)\n",
    "model = PPO.load(\"ppo_cartpole\")"
   ]
  },
  {
   "cell_type": "markdown",
   "id": "13b6ebc8",
   "metadata": {},
   "source": [
    "### Evaluate Loaded Model"
   ]
  },
  {
   "cell_type": "code",
   "execution_count": null,
   "id": "f385f9f3",
   "metadata": {},
   "outputs": [],
   "source": [
    "obs = env.reset()\n",
    "\n",
    "while True:\n",
    "    action, _states = model.predict(obs)\n",
    "    obs, rewards, dones, info = env.step(action)\n",
    "    env.render()"
   ]
  },
  {
   "cell_type": "markdown",
   "id": "622e8b3e",
   "metadata": {},
   "source": [
    "### References\n",
    "https://stable-baselines3.readthedocs.io/en/master/modules/ppo.html\n",
    "\n",
    "https://stable-baselines3.readthedocs.io/en/master/guide/custom_policy.html#examples\n",
    "\n",
    "https://stable-baselines3.readthedocs.io/en/master/guide/custom_policy.html#default-network-architecture\n",
    "\n",
    "https://gymnasium.farama.org/api/spaces/composite/\n",
    "\n",
    "https://gymnasium.farama.org/api/spaces/fundamental/\n",
    "\n",
    "gym fix\n",
    "https://github.com/DLR-RM/stable-baselines3/pull/780"
   ]
  },
  {
   "cell_type": "code",
   "execution_count": null,
   "id": "04f6c5cc",
   "metadata": {},
   "outputs": [],
   "source": []
  }
 ],
 "metadata": {
  "kernelspec": {
   "display_name": "Python 3 (ipykernel)",
   "language": "python",
   "name": "python3"
  },
  "language_info": {
   "codemirror_mode": {
    "name": "ipython",
    "version": 3
   },
   "file_extension": ".py",
   "mimetype": "text/x-python",
   "name": "python",
   "nbconvert_exporter": "python",
   "pygments_lexer": "ipython3",
   "version": "3.9.12"
  }
 },
 "nbformat": 4,
 "nbformat_minor": 5
}
