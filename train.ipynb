{
 "cells": [
  {
   "cell_type": "markdown",
   "id": "f8ac2a27",
   "metadata": {},
   "source": [
    "# Mission Control"
   ]
  },
  {
   "cell_type": "markdown",
   "id": "35f55ffd",
   "metadata": {},
   "source": [
    "This notebook serves as the top level controller for training, testing, and demonstrating this project. Any callable python script should have a cell in this notebook."
   ]
  },
  {
   "cell_type": "markdown",
   "id": "2a004a56",
   "metadata": {},
   "source": [
    "### Create Randomized (fresh) Model"
   ]
  },
  {
   "cell_type": "code",
   "execution_count": null,
   "id": "e0d2b8e2",
   "metadata": {},
   "outputs": [],
   "source": []
  },
  {
   "cell_type": "markdown",
   "id": "e63c5d23",
   "metadata": {},
   "source": [
    "### Load Existing Model"
   ]
  },
  {
   "cell_type": "code",
   "execution_count": null,
   "id": "ae6fd982",
   "metadata": {},
   "outputs": [],
   "source": [
    "path = '/model_backups/'\n",
    "model_name = \n",
    "#NOTE: model_backups should be cleared out periodically (automate this???)"
   ]
  },
  {
   "cell_type": "markdown",
   "id": "f17a531d",
   "metadata": {},
   "source": [
    "### Train Loaded Model"
   ]
  },
  {
   "cell_type": "code",
   "execution_count": null,
   "id": "3fd28d63",
   "metadata": {},
   "outputs": [],
   "source": []
  },
  {
   "cell_type": "markdown",
   "id": "13b6ebc8",
   "metadata": {},
   "source": [
    "### Evaluate Loaded Model"
   ]
  },
  {
   "cell_type": "code",
   "execution_count": null,
   "id": "f385f9f3",
   "metadata": {},
   "outputs": [],
   "source": []
  }
 ],
 "metadata": {
  "kernelspec": {
   "display_name": "Python 3 (ipykernel)",
   "language": "python",
   "name": "python3"
  },
  "language_info": {
   "codemirror_mode": {
    "name": "ipython",
    "version": 3
   },
   "file_extension": ".py",
   "mimetype": "text/x-python",
   "name": "python",
   "nbconvert_exporter": "python",
   "pygments_lexer": "ipython3",
   "version": "3.10.6"
  }
 },
 "nbformat": 4,
 "nbformat_minor": 5
}
