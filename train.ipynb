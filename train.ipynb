{
 "cells": [
  {
   "cell_type": "code",
   "execution_count": null,
   "id": "f2182020",
   "metadata": {
    "scrolled": true
   },
   "outputs": [],
   "source": [
    "!pip3 install torch torchvision torchaudio"
   ]
  },
  {
   "cell_type": "markdown",
   "id": "f8ac2a27",
   "metadata": {},
   "source": [
    "# Mission Control"
   ]
  },
  {
   "cell_type": "markdown",
   "id": "35f55ffd",
   "metadata": {},
   "source": [
    "This notebook serves as the top level controller for training, testing, and demonstrating this project. Any callable python script should have a cell in this notebook."
   ]
  },
  {
   "cell_type": "markdown",
   "id": "b5d424b3",
   "metadata": {},
   "source": [
    "### Imports\n",
    "Run the following cell before running anything else"
   ]
  },
  {
   "cell_type": "code",
   "execution_count": null,
   "id": "eb9ca593",
   "metadata": {},
   "outputs": [],
   "source": [
    "import math\n",
    "import random\n",
    "import matplotlib\n",
    "import matplotlib.pyplot as plt\n",
    "from collections import namedtuple, deque\n",
    "#from itertools import count\n"
   ]
  },
  {
   "cell_type": "markdown",
   "id": "405bed02",
   "metadata": {},
   "source": [
    "### Define Hyperparameters"
   ]
  },
  {
   "cell_type": "code",
   "execution_count": null,
   "id": "a5c8f4f9",
   "metadata": {},
   "outputs": [],
   "source": [
    "#import gymnasium as gym\n",
    "import numpy as np\n",
    "\n",
    "from stable_baselines3 import PPO\n",
    "#from stable_baselines3.common.vec_env import DummyVecEnv, SubprocVecEnv\n",
    "#from stable_baselines3.common.env_util import make_vec_env\n",
    "from stable_baselines3.common.utils import set_random_seed\n",
    "\n",
    "def make_env(env_id: str, rank: int, seed: int = 0):\n",
    "    \"\"\"\n",
    "    Utility function for multiprocessed env.\n",
    "\n",
    "    :param env_id: the environment ID\n",
    "    :param num_env: the number of environments you wish to have in subprocesses\n",
    "    :param seed: the inital seed for RNG\n",
    "    :param rank: index of the subprocess\n",
    "    \"\"\"\n",
    "    def _init():\n",
    "        env = gym.make(env_id, render_mode=\"human\")\n",
    "        env.reset(seed=seed + rank)\n",
    "        return env\n",
    "    set_random_seed(seed)\n",
    "    return _init\n",
    "\n",
    "if __name__ == \"__main__\":\n",
    "    env_id = \"CartPole-v1\"\n",
    "    #num_cpu = 1  # Number of processes to use\n",
    "    # Create the vectorized environment\n",
    "    #vec_env = SubprocVecEnv([make_env(env_id, i) for i in range(num_cpu)])\n",
    "\n",
    "    # Stable Baselines provides you with make_vec_env() helper\n",
    "    # which does exactly the previous steps for you.\n",
    "    # You can choose between `DummyVecEnv` (usually faster) and `SubprocVecEnv`\n",
    "    # env = make_vec_env(env_id, n_envs=num_cpu, seed=0, vec_env_cls=SubprocVecEnv)\n",
    "\n",
    "    model = PPO(\"MlpPolicy\", vec_env, verbose=1)\n",
    "    model.learn(total_timesteps=25_000)\n",
    "\n",
    "    obs = vec_env.reset()\n",
    "    for _ in range(1000):\n",
    "        action, _states = model.predict(obs)\n",
    "        obs, rewards, dones, info = vec_env.step(action)\n",
    "        vec_env.render()"
   ]
  },
  {
   "cell_type": "markdown",
   "id": "da05952e",
   "metadata": {},
   "source": [
    "### Environment"
   ]
  },
  {
   "cell_type": "code",
   "execution_count": 1,
   "id": "e1284689",
   "metadata": {},
   "outputs": [],
   "source": [
    "#OPEN COPPELIASIM BEFORE STARTING THIS SCRIPT\n",
    "from time import sleep\n",
    "from coppeliasim_env import SpaceJunkEnv\n",
    "\n",
    "env = SpaceJunkEnv()\n",
    "\n",
    "\n",
    "\n",
    "#sensor1Handle=sim.getObject('/VisionSensor')\n",
    "#sensor2Handle=sim.getObject('/PassiveVisionSensor')\n",
    "\n",
    "\n",
    "\n",
    "#sleep(5)\n",
    "#sim.startSimulation()\n",
    "#sleep(5)\n",
    "#sim.stopSimulation()\n",
    "\n"
   ]
  },
  {
   "cell_type": "code",
   "execution_count": 4,
   "id": "21dc8d15",
   "metadata": {},
   "outputs": [
    {
     "data": {
      "text/plain": [
       "1"
      ]
     },
     "execution_count": 4,
     "metadata": {},
     "output_type": "execute_result"
    }
   ],
   "source": [
    "sim = env.getsim()\n",
    "joint = sim.getObject(\"/Sawyer/link/joint\")\n",
    "sim.setJointTargetPosition(joint,-90*3.14159265/180,[0.1,0.1,0.1])"
   ]
  },
  {
   "cell_type": "code",
   "execution_count": 3,
   "id": "f59cc6b0",
   "metadata": {},
   "outputs": [
    {
     "data": {
      "text/plain": [
       "array([[[93, 93, 93],\n",
       "        [93, 93, 93],\n",
       "        [68, 68, 68],\n",
       "        ...,\n",
       "        [74, 74, 74],\n",
       "        [75, 74, 75],\n",
       "        [75, 74, 75]],\n",
       "\n",
       "       [[92, 92, 90],\n",
       "        [91, 91, 89],\n",
       "        [91, 91, 89],\n",
       "        ...,\n",
       "        [75, 74, 75],\n",
       "        [75, 74, 75],\n",
       "        [72, 72, 72]],\n",
       "\n",
       "       [[92, 92, 90],\n",
       "        [91, 91, 89],\n",
       "        [91, 91, 89],\n",
       "        ...,\n",
       "        [74, 74, 74],\n",
       "        [74, 74, 74],\n",
       "        [76, 77, 76]],\n",
       "\n",
       "       ...,\n",
       "\n",
       "       [[ 0,  0,  0],\n",
       "        [ 0,  0,  0],\n",
       "        [ 0,  0,  0],\n",
       "        ...,\n",
       "        [ 0,  0,  0],\n",
       "        [ 0,  0,  0],\n",
       "        [ 0,  0,  0]],\n",
       "\n",
       "       [[ 0,  0,  0],\n",
       "        [ 0,  0,  0],\n",
       "        [ 0,  0,  0],\n",
       "        ...,\n",
       "        [ 0,  0,  0],\n",
       "        [ 0,  0,  0],\n",
       "        [ 0,  0,  0]],\n",
       "\n",
       "       [[ 0,  0,  0],\n",
       "        [ 0,  0,  0],\n",
       "        [ 0,  0,  0],\n",
       "        ...,\n",
       "        [ 0,  0,  0],\n",
       "        [ 0,  0,  0],\n",
       "        [ 0,  0,  0]]], dtype=uint8)"
      ]
     },
     "execution_count": 3,
     "metadata": {},
     "output_type": "execute_result"
    }
   ],
   "source": [
    "env.reset()\n",
    "#env.addcubesat([0.5,0,0.5])"
   ]
  },
  {
   "cell_type": "markdown",
   "id": "22b7d684",
   "metadata": {},
   "source": [
    "### Define Replay Memory"
   ]
  },
  {
   "cell_type": "code",
   "execution_count": 15,
   "id": "533822d3",
   "metadata": {},
   "outputs": [
    {
     "data": {
      "text/plain": [
       "0"
      ]
     },
     "execution_count": 15,
     "metadata": {},
     "output_type": "execute_result"
    }
   ],
   "source": []
  },
  {
   "cell_type": "code",
   "execution_count": null,
   "id": "2b79cd68",
   "metadata": {},
   "outputs": [],
   "source": []
  },
  {
   "cell_type": "markdown",
   "id": "26345985",
   "metadata": {},
   "source": [
    "### Define Architecture"
   ]
  },
  {
   "cell_type": "code",
   "execution_count": null,
   "id": "855b1a99",
   "metadata": {},
   "outputs": [],
   "source": []
  },
  {
   "cell_type": "markdown",
   "id": "2a004a56",
   "metadata": {},
   "source": [
    "### Create Randomized (fresh) Model"
   ]
  },
  {
   "cell_type": "code",
   "execution_count": null,
   "id": "e0d2b8e2",
   "metadata": {},
   "outputs": [],
   "source": []
  },
  {
   "cell_type": "markdown",
   "id": "e63c5d23",
   "metadata": {},
   "source": [
    "### Load Existing Model"
   ]
  },
  {
   "cell_type": "code",
   "execution_count": null,
   "id": "ae6fd982",
   "metadata": {},
   "outputs": [],
   "source": [
    "path = '/model_backups/'\n",
    "model_name = \n",
    "#NOTE: model_backups should be cleared out periodically (automate this???)"
   ]
  },
  {
   "cell_type": "markdown",
   "id": "f17a531d",
   "metadata": {},
   "source": [
    "### Train Loaded Model"
   ]
  },
  {
   "cell_type": "code",
   "execution_count": null,
   "id": "3fd28d63",
   "metadata": {},
   "outputs": [],
   "source": []
  },
  {
   "cell_type": "markdown",
   "id": "13b6ebc8",
   "metadata": {},
   "source": [
    "### Evaluate Loaded Model"
   ]
  },
  {
   "cell_type": "code",
   "execution_count": null,
   "id": "f385f9f3",
   "metadata": {},
   "outputs": [],
   "source": []
  },
  {
   "cell_type": "markdown",
   "id": "622e8b3e",
   "metadata": {},
   "source": [
    "### References\n",
    "https://stable-baselines3.readthedocs.io/en/master/modules/ppo.html\n",
    "\n",
    "https://stable-baselines3.readthedocs.io/en/master/guide/custom_policy.html#examples"
   ]
  },
  {
   "cell_type": "code",
   "execution_count": null,
   "id": "04f6c5cc",
   "metadata": {},
   "outputs": [],
   "source": []
  }
 ],
 "metadata": {
  "kernelspec": {
   "display_name": "Python 3 (ipykernel)",
   "language": "python",
   "name": "python3"
  },
  "language_info": {
   "codemirror_mode": {
    "name": "ipython",
    "version": 3
   },
   "file_extension": ".py",
   "mimetype": "text/x-python",
   "name": "python",
   "nbconvert_exporter": "python",
   "pygments_lexer": "ipython3",
   "version": "3.9.12"
  }
 },
 "nbformat": 4,
 "nbformat_minor": 5
}
