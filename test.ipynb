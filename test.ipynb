{
 "cells": [
  {
   "cell_type": "code",
   "execution_count": 1,
   "id": "b284582f",
   "metadata": {},
   "outputs": [],
   "source": [
    "import gymnasium as gym\n",
    "import sys #fix for gym issues\n",
    "import gymnasium #fix for gym issues\n",
    "sys.modules[\"gym\"] = gymnasium #fix for gym issues\n",
    "from coppeliasim_env import SpaceJunkEnv\n",
    "from stable_baselines3 import PPO"
   ]
  },
  {
   "cell_type": "code",
   "execution_count": 3,
   "id": "8e5db2f5",
   "metadata": {},
   "outputs": [],
   "source": [
    "#define environment instance\n",
    "env = SpaceJunkEnv(stepped=False,fast=False)"
   ]
  },
  {
   "cell_type": "code",
   "execution_count": 4,
   "id": "ae3a4f22",
   "metadata": {},
   "outputs": [
    {
     "name": "stdout",
     "output_type": "stream",
     "text": [
      "Using cpu device\n",
      "Wrapping the env with a `Monitor` wrapper\n",
      "Wrapping the env in a DummyVecEnv.\n",
      "Wrapping the env in a VecTransposeImage.\n"
     ]
    }
   ],
   "source": [
    "#define model w/ custom fully connected network\n",
    "model = PPO(\"MultiInputPolicy\", env, verbose=1, n_steps=512, policy_kwargs=dict(net_arch=[256, 256, 256]))"
   ]
  },
  {
   "cell_type": "code",
   "execution_count": 5,
   "id": "559c3b40",
   "metadata": {
    "scrolled": true
   },
   "outputs": [
    {
     "name": "stderr",
     "output_type": "stream",
     "text": [
      "/home/vlarko/anaconda3/lib/python3.9/site-packages/stable_baselines3/common/save_util.py:166: UserWarning: Could not deserialize object observation_space. Consider using `custom_objects` argument to replace this object.\n",
      "Exception: __generator_ctor() takes from 0 to 1 positional arguments but 2 were given\n",
      "  warnings.warn(\n",
      "/home/vlarko/anaconda3/lib/python3.9/site-packages/stable_baselines3/common/save_util.py:166: UserWarning: Could not deserialize object lr_schedule. Consider using `custom_objects` argument to replace this object.\n",
      "Exception: Can't get attribute '_make_function' on <module 'cloudpickle.cloudpickle' from '/home/vlarko/anaconda3/lib/python3.9/site-packages/cloudpickle/cloudpickle.py'>\n",
      "  warnings.warn(\n",
      "/home/vlarko/anaconda3/lib/python3.9/site-packages/stable_baselines3/common/save_util.py:166: UserWarning: Could not deserialize object clip_range. Consider using `custom_objects` argument to replace this object.\n",
      "Exception: Can't get attribute '_make_function' on <module 'cloudpickle.cloudpickle' from '/home/vlarko/anaconda3/lib/python3.9/site-packages/cloudpickle/cloudpickle.py'>\n",
      "  warnings.warn(\n"
     ]
    },
    {
     "ename": "KeyError",
     "evalue": "\"The observation_space and action_space were not given, can't verify new environments\"",
     "output_type": "error",
     "traceback": [
      "\u001b[0;31m---------------------------------------------------------------------------\u001b[0m",
      "\u001b[0;31mKeyError\u001b[0m                                  Traceback (most recent call last)",
      "Input \u001b[0;32mIn [5]\u001b[0m, in \u001b[0;36m<cell line: 1>\u001b[0;34m()\u001b[0m\n\u001b[0;32m----> 1\u001b[0m \u001b[43mmodel\u001b[49m\u001b[38;5;241;43m.\u001b[39;49m\u001b[43mload\u001b[49m\u001b[43m(\u001b[49m\u001b[38;5;124;43m\"\u001b[39;49m\u001b[38;5;124;43mmodel2_12.zip\u001b[39;49m\u001b[38;5;124;43m\"\u001b[39;49m\u001b[43m)\u001b[49m\n",
      "File \u001b[0;32m~/anaconda3/lib/python3.9/site-packages/stable_baselines3/common/base_class.py:687\u001b[0m, in \u001b[0;36mBaseAlgorithm.load\u001b[0;34m(cls, path, env, device, custom_objects, print_system_info, force_reset, **kwargs)\u001b[0m\n\u001b[1;32m    681\u001b[0m     \u001b[38;5;28;01mraise\u001b[39;00m \u001b[38;5;167;01mValueError\u001b[39;00m(\n\u001b[1;32m    682\u001b[0m         \u001b[38;5;124mf\u001b[39m\u001b[38;5;124m\"\u001b[39m\u001b[38;5;124mThe specified policy kwargs do not equal the stored policy kwargs.\u001b[39m\u001b[38;5;124m\"\u001b[39m\n\u001b[1;32m    683\u001b[0m         \u001b[38;5;124mf\u001b[39m\u001b[38;5;124m\"\u001b[39m\u001b[38;5;124mStored kwargs: \u001b[39m\u001b[38;5;132;01m{\u001b[39;00mdata[\u001b[38;5;124m'\u001b[39m\u001b[38;5;124mpolicy_kwargs\u001b[39m\u001b[38;5;124m'\u001b[39m]\u001b[38;5;132;01m}\u001b[39;00m\u001b[38;5;124m, specified kwargs: \u001b[39m\u001b[38;5;132;01m{\u001b[39;00mkwargs[\u001b[38;5;124m'\u001b[39m\u001b[38;5;124mpolicy_kwargs\u001b[39m\u001b[38;5;124m'\u001b[39m]\u001b[38;5;132;01m}\u001b[39;00m\u001b[38;5;124m\"\u001b[39m\n\u001b[1;32m    684\u001b[0m     )\n\u001b[1;32m    686\u001b[0m \u001b[38;5;28;01mif\u001b[39;00m \u001b[38;5;124m\"\u001b[39m\u001b[38;5;124mobservation_space\u001b[39m\u001b[38;5;124m\"\u001b[39m \u001b[38;5;129;01mnot\u001b[39;00m \u001b[38;5;129;01min\u001b[39;00m data \u001b[38;5;129;01mor\u001b[39;00m \u001b[38;5;124m\"\u001b[39m\u001b[38;5;124maction_space\u001b[39m\u001b[38;5;124m\"\u001b[39m \u001b[38;5;129;01mnot\u001b[39;00m \u001b[38;5;129;01min\u001b[39;00m data:\n\u001b[0;32m--> 687\u001b[0m     \u001b[38;5;28;01mraise\u001b[39;00m \u001b[38;5;167;01mKeyError\u001b[39;00m(\u001b[38;5;124m\"\u001b[39m\u001b[38;5;124mThe observation_space and action_space were not given, can\u001b[39m\u001b[38;5;124m'\u001b[39m\u001b[38;5;124mt verify new environments\u001b[39m\u001b[38;5;124m\"\u001b[39m)\n\u001b[1;32m    689\u001b[0m \u001b[38;5;28;01mif\u001b[39;00m env \u001b[38;5;129;01mis\u001b[39;00m \u001b[38;5;129;01mnot\u001b[39;00m \u001b[38;5;28;01mNone\u001b[39;00m:\n\u001b[1;32m    690\u001b[0m     \u001b[38;5;66;03m# Wrap first if needed\u001b[39;00m\n\u001b[1;32m    691\u001b[0m     env \u001b[38;5;241m=\u001b[39m \u001b[38;5;28mcls\u001b[39m\u001b[38;5;241m.\u001b[39m_wrap_env(env, data[\u001b[38;5;124m\"\u001b[39m\u001b[38;5;124mverbose\u001b[39m\u001b[38;5;124m\"\u001b[39m])\n",
      "\u001b[0;31mKeyError\u001b[0m: \"The observation_space and action_space were not given, can't verify new environments\""
     ]
    }
   ],
   "source": [
    "model.load(\"model2_12.zip\")"
   ]
  },
  {
   "cell_type": "code",
   "execution_count": null,
   "id": "defeb9e0",
   "metadata": {},
   "outputs": [],
   "source": [
    "from time import sleep\n",
    "obs = env.reset()\n",
    "i = 0\n",
    "while i < 100:\n",
    "    obs = {}\n",
    "    obs[\"headcamera\"] = env.getheadimage()\n",
    "    obs[\"wristcamera\"] = env.getwristimage()\n",
    "    obs[\"joints\"] = env.getjointpositions()\n",
    "    action, _states = model.predict(obs)\n",
    "    sim = env.getsim()\n",
    "    #obs, rewards, dones, info = env.step(action)\n",
    "    #tell Sawyer position goals\n",
    "    joint0 = sim.getObject(\"/Sawyer/joint\")\n",
    "    sim.setJointTargetPosition(joint0,float(action[0])*3.14159265,[0.1,0.1,0.1])\n",
    "        \n",
    "    joint1 = sim.getObject(\"/Sawyer/link/joint\")\n",
    "    sim.setJointTargetPosition(joint1,float(action[1])*3.14159265,[0.1,0.1,0.1])\n",
    "        \n",
    "    joint2 = sim.getObject(\"/Sawyer/link/joint/link/joint\")\n",
    "    sim.setJointTargetPosition(joint2,float(action[2])*3.14159265,[0.1,0.1,0.1])\n",
    "        \n",
    "    joint3 = sim.getObject(\"/Sawyer/link/joint/link/joint/link/joint\")\n",
    "    sim.setJointTargetPosition(joint3,float(action[3])*3.14159265,[0.1,0.1,0.1])\n",
    "        \n",
    "    joint4 = sim.getObject(\"/Sawyer/link/joint/link/joint/link/joint/link/joint\")\n",
    "    sim.setJointTargetPosition(joint4,float(action[4])*3.14159265,[0.1,0.1,0.1])\n",
    "        \n",
    "    joint5 = sim.getObject(\"/Sawyer/link/joint/link/joint/link/joint/link/joint/link/joint\")\n",
    "    sim.setJointTargetPosition(joint5,float(action[5])*3.14159265,[0.1,0.1,0.1])\n",
    "        \n",
    "    joint6 = sim.getObject(\"/Sawyer/link/joint/link/joint/link/joint/link/joint/link/joint/link/joint\")\n",
    "    sim.setJointTargetPosition(joint6,float(action[6])*3.14159265,[0.1,0.1,0.1])\n",
    "    \n",
    "    sleep(0.05)\n",
    "    i += 1"
   ]
  },
  {
   "cell_type": "code",
   "execution_count": null,
   "id": "ae1e7366",
   "metadata": {},
   "outputs": [],
   "source": []
  }
 ],
 "metadata": {
  "kernelspec": {
   "display_name": "Python 3 (ipykernel)",
   "language": "python",
   "name": "python3"
  },
  "language_info": {
   "codemirror_mode": {
    "name": "ipython",
    "version": 3
   },
   "file_extension": ".py",
   "mimetype": "text/x-python",
   "name": "python",
   "nbconvert_exporter": "python",
   "pygments_lexer": "ipython3",
   "version": "3.9.12"
  }
 },
 "nbformat": 4,
 "nbformat_minor": 5
}
