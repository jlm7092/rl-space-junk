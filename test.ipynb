{
 "cells": [
  {
   "cell_type": "code",
   "execution_count": null,
   "id": "b284582f",
   "metadata": {},
   "outputs": [],
   "source": [
    "import gymnasium as gym\n",
    "import sys #fix for gym issues\n",
    "import gymnasium #fix for gym issues\n",
    "sys.modules[\"gym\"] = gymnasium #fix for gym issues\n",
    "from coppeliasim_env import SpaceJunkEnv\n",
    "from stable_baselines3 import PPO"
   ]
  },
  {
   "cell_type": "code",
   "execution_count": null,
   "id": "8e5db2f5",
   "metadata": {},
   "outputs": [],
   "source": [
    "#define environment instance\n",
    "env = SpaceJunkEnv(stepped=False,fast=False)"
   ]
  },
  {
   "cell_type": "code",
   "execution_count": null,
   "id": "ae3a4f22",
   "metadata": {},
   "outputs": [],
   "source": [
    "#define model w/ custom fully connected network\n",
    "model = PPO(\"MultiInputPolicy\", env, verbose=1, n_steps=512, policy_kwargs=dict(net_arch=[256, 256, 256]))"
   ]
  },
  {
   "cell_type": "code",
   "execution_count": null,
   "id": "559c3b40",
   "metadata": {},
   "outputs": [],
   "source": [
    "model.load(\"model_backups/model_15.zip\")"
   ]
  },
  {
   "cell_type": "code",
   "execution_count": null,
   "id": "defeb9e0",
   "metadata": {},
   "outputs": [],
   "source": [
    "from time import sleep\n",
    "obs = env.reset()\n",
    "i = 0\n",
    "while i < 400:\n",
    "    obs = {}\n",
    "    obs[\"headcamera\"] = env.getheadimage()\n",
    "    obs[\"joints\"] = env.getjointpositions()\n",
    "    action, _states = model.predict(obs)\n",
    "    sim = env.getsim()\n",
    "    #obs, rewards, dones, info = env.step(action)\n",
    "    #tell Sawyer position goals\n",
    "    joint0 = sim.getObject(\"/Sawyer/joint\")\n",
    "    sim.setJointTargetPosition(joint0,float(action[0])*3.14159265,[0.1,0.1,0.1])\n",
    "        \n",
    "    joint1 = sim.getObject(\"/Sawyer/link/joint\")\n",
    "    sim.setJointTargetPosition(joint1,float(action[1])*3.14159265,[0.1,0.1,0.1])\n",
    "        \n",
    "    joint2 = sim.getObject(\"/Sawyer/link/joint/link/joint\")\n",
    "    sim.setJointTargetPosition(joint2,float(action[2])*3.14159265,[0.1,0.1,0.1])\n",
    "        \n",
    "    joint3 = sim.getObject(\"/Sawyer/link/joint/link/joint/link/joint\")\n",
    "    sim.setJointTargetPosition(joint3,float(action[3])*3.14159265,[0.1,0.1,0.1])\n",
    "        \n",
    "    joint4 = sim.getObject(\"/Sawyer/link/joint/link/joint/link/joint/link/joint\")\n",
    "    sim.setJointTargetPosition(joint4,float(action[4])*3.14159265,[0.1,0.1,0.1])\n",
    "        \n",
    "    joint5 = sim.getObject(\"/Sawyer/link/joint/link/joint/link/joint/link/joint/link/joint\")\n",
    "    sim.setJointTargetPosition(joint5,float(action[5])*3.14159265,[0.1,0.1,0.1])\n",
    "        \n",
    "    joint6 = sim.getObject(\"/Sawyer/link/joint/link/joint/link/joint/link/joint/link/joint/link/joint\")\n",
    "    sim.setJointTargetPosition(joint6,float(action[6])*3.14159265,[0.1,0.1,0.1])\n",
    "    \n",
    "    sleep(0.05)\n",
    "    i += 1"
   ]
  },
  {
   "cell_type": "code",
   "execution_count": null,
   "id": "ae1e7366",
   "metadata": {},
   "outputs": [],
   "source": []
  }
 ],
 "metadata": {
  "kernelspec": {
   "display_name": "Python 3 (ipykernel)",
   "language": "python",
   "name": "python3"
  },
  "language_info": {
   "codemirror_mode": {
    "name": "ipython",
    "version": 3
   },
   "file_extension": ".py",
   "mimetype": "text/x-python",
   "name": "python",
   "nbconvert_exporter": "python",
   "pygments_lexer": "ipython3",
   "version": "3.9.12"
  }
 },
 "nbformat": 4,
 "nbformat_minor": 5
}
